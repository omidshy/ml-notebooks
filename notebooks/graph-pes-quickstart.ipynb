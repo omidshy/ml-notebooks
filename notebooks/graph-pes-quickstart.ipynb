{
 "cells": [
  {
   "cell_type": "markdown",
   "metadata": {
    "nbsphinx": "hidden"
   },
   "source": [
    "In case you are running this notebook in Colab! If you want to enable GPU acceleration, ensure you select a GPU runtime in the top-right dropdown menu 🚀"
   ]
  },
  {
   "cell_type": "markdown",
   "metadata": {},
   "source": [
    "# Training ML potentials using GNNs\n",
    "\n",
    "> **FYI**, you can open this documentation as a [Google Colab notebook](https://colab.research.google.com/github/omidshy/ml-notebooks/blob/master/notebooks/graph-pes-quickstart.ipynb) to follow along interactively\n",
    "\n",
    "[graph-pes-train](https://jla-gardner.github.io/graph-pes/cli/graph-pes-train/root.html) provides a unified interface to train any [GraphPESModel](https://jla-gardner.github.io/graph-pes/models/root.html#graph_pes.GraphPESModel), including those packaged within [graph_pes.models](https://jla-gardner.github.io/graph-pes/models/root.html) and those defined by you, the user.\n",
    "\n",
    "For more information on the ``graph-pes-train`` command, and the plethora of options available for specification in your ``config.yaml`` see the [CLI reference](https://jla-gardner.github.io/graph-pes/cli/graph-pes-train/root.html).\n",
    "\n",
    "Below, we train a lightweight [MACE](https://jla-gardner.github.io/graph-pes/models/many-body/mace.html) model on the [C-GAP-17](https://jla-gardner.github.io/load-atoms/datasets/C-GAP-17.html) a dataset containing 4530 structures of amorphous carbon.\n",
    "\n",
    "## Installation\n"
   ]
  },
  {
   "cell_type": "code",
   "execution_count": null,
   "metadata": {},
   "outputs": [],
   "source": [
    "!pip install graph-pes"
   ]
  },
  {
   "cell_type": "markdown",
   "metadata": {},
   "source": [
    "We now should have access to the ``graph-pes-train`` command. We can check this by running:"
   ]
  },
  {
   "cell_type": "code",
   "execution_count": null,
   "metadata": {},
   "outputs": [],
   "source": [
    "!graph-pes-train -h"
   ]
  },
  {
   "cell_type": "markdown",
   "metadata": {},
   "source": [
    "## Reference Data \n",
    "\n",
    "We use [load-atoms](https://jla-gardner.github.io/load-atoms/) to download and split the C-GAP-17 dataset into training, validation and test datasets:"
   ]
  },
  {
   "cell_type": "code",
   "execution_count": null,
   "metadata": {},
   "outputs": [],
   "source": [
    "import ase.io\n",
    "from load_atoms import load_dataset\n",
    "\n",
    "structures = load_dataset(\"C-GAP-17\")\n",
    "train, val, test = structures.random_split([0.8, 0.1, 0.1])\n",
    "\n",
    "ase.io.write(\"train-cgap17.xyz\", train)\n",
    "ase.io.write(\"val-cgap17.xyz\", val)\n",
    "ase.io.write(\"test-cgap17.xyz\", test)"
   ]
  },
  {
   "cell_type": "markdown",
   "metadata": {},
   "source": [
    "We can visualise the kinds of structures we're training on using [load_atoms.view](https://jla-gardner.github.io/load-atoms/api/viz.html):"
   ]
  },
  {
   "cell_type": "code",
   "execution_count": null,
   "metadata": {},
   "outputs": [],
   "source": [
    "from load_atoms import view\n",
    "\n",
    "view(train[0], show_bonds=True)"
   ]
  },
  {
   "cell_type": "markdown",
   "metadata": {},
   "source": [
    "As you can see, each structure has an energy label:"
   ]
  },
  {
   "cell_type": "code",
   "execution_count": null,
   "metadata": {},
   "outputs": [],
   "source": [
    "train[0].info[\"energy\"]"
   ]
  },
  {
   "cell_type": "markdown",
   "metadata": {},
   "source": [
    "... as well as a forces label (one for each atom in the structure):"
   ]
  },
  {
   "cell_type": "code",
   "execution_count": null,
   "metadata": {},
   "outputs": [],
   "source": [
    "train[0].arrays[\"forces\"].shape"
   ]
  },
  {
   "cell_type": "markdown",
   "metadata": {},
   "source": [
    "These properties are stored in the files we have just created:"
   ]
  },
  {
   "cell_type": "code",
   "execution_count": null,
   "metadata": {},
   "outputs": [],
   "source": [
    "!head train-cgap17.xyz"
   ]
  },
  {
   "cell_type": "markdown",
   "metadata": {},
   "source": [
    "## Configuration\n",
    "\n",
    "Great - now lets train a model. To do this, we have specified the following in our ``quickstart-cgap17.yaml`` file:\n",
    "\n",
    "* the model architecture to instantiate and train, here [MACE](https://jla-gardner.github.io/graph-pes/models/many-body/mace.html). Note that we also include a [FixedOffset](https://jla-gardner.github.io/graph-pes/models/offsets.html#graph_pes.models.FixedOffset) component to account for the fact that the C-GAP-17 labels have an arbitrary energy offset.\n",
    "* the data to train on, here the [C-GAP-17](https://jla-gardner.github.io/load-atoms/datasets/C-GAP-17.html) dataset we just downloaded\n",
    "* the loss function to use, here a combination of a per-atom energy loss and a per-atom force loss\n",
    "* and various other training hyperparameters (e.g. the learning rate, batch size, etc.)\n",
    "\n"
   ]
  },
  {
   "cell_type": "markdown",
   "metadata": {},
   "source": [
    "We can download [this config file](https://raw.githubusercontent.com/omidshy/ml-notebooks/refs/heads/master/data/quickstart-cgap17.yaml) using wget:"
   ]
  },
  {
   "cell_type": "code",
   "execution_count": null,
   "metadata": {},
   "outputs": [],
   "source": [
    "%%bash\n",
    "\n",
    "if [ ! -f quickstart-cgap17.yaml ]; then\n",
    "    wget https://tinyurl.com/quickstart-config -O quickstart-cgap17.yaml\n",
    "fi"
   ]
  },
  {
   "cell_type": "markdown",
   "metadata": {},
   "source": [
    "## Training\n",
    "\n",
    "We use the downloaded config file to start the training.\n"
   ]
  },
  {
   "cell_type": "code",
   "execution_count": null,
   "metadata": {},
   "outputs": [],
   "source": [
    "!graph-pes-train quickstart-cgap17.yaml general/run_id=train-mace"
   ]
  },
  {
   "cell_type": "markdown",
   "metadata": {},
   "source": [
    "## Model Analysis\n",
    "\n",
    "As part of the `graph-pes-train` run, the model was tested on the test set we specified in the config file (see the final section of the logs above).\n",
    "\n",
    "To analyse the model in more detail, we first need to load it from disk. You can see from the command we used, and the training logs above, that the best model from the training run (i.e. the set of weights that gave the lowest validation loss) has been saved as `graph-pes-results/train-mace/model.pt`.\n",
    "\n",
    "Let's load that best model, put it on the GPU for accelerated inference if available, and get it ready for evaluation:"
   ]
  },
  {
   "cell_type": "code",
   "execution_count": null,
   "metadata": {},
   "outputs": [],
   "source": [
    "import torch\n",
    "from graph_pes.models import load_model\n",
    "\n",
    "device = torch.device(\"cuda\" if torch.cuda.is_available() else \"cpu\")\n",
    "best_model = (\n",
    "    load_model(\"graph-pes-results/train-mace/model.pt\")  # load the model\n",
    "    .to(device)  # move to GPU if available\n",
    "    .eval()  # set to evaluation mode\n",
    ")"
   ]
  },
  {
   "cell_type": "markdown",
   "metadata": {},
   "source": [
    "The easiest way to use our model is to use the [GraphPESCalculator](https://jla-gardner.github.io/graph-pes/tools/ase.html#graph_pes.utils.calculator.GraphPESCalculator) to act directly on [ase.Atoms](https://wiki.fysik.dtu.dk/ase/ase/atoms.html#module-ase.atoms) objects:"
   ]
  },
  {
   "cell_type": "code",
   "execution_count": null,
   "metadata": {},
   "outputs": [],
   "source": [
    "calculator = best_model.ase_calculator()\n",
    "calculator.calculate(test[0], properties=[\"energy\", \"forces\", \"stress\"])\n",
    "calculator.results"
   ]
  },
  {
   "cell_type": "markdown",
   "metadata": {},
   "source": [
    "We can see from a single data point that our model has done a reasonable job of learning the PES:"
   ]
  },
  {
   "cell_type": "code",
   "execution_count": null,
   "metadata": {},
   "outputs": [],
   "source": [
    "calculator.get_potential_energy(test[0]), test[0].info[\"energy\"]"
   ]
  },
  {
   "cell_type": "markdown",
   "metadata": {},
   "source": [
    "... and predicting the atomic forces:"
   ]
  },
  {
   "cell_type": "code",
   "execution_count": null,
   "metadata": {},
   "outputs": [],
   "source": [
    "calculator.get_forces(test[0])[1], test[0].arrays[\"forces\"][1]"
   ]
  },
  {
   "cell_type": "markdown",
   "metadata": {},
   "source": [
    "``graph-pes`` provides a few utility functions for visualising model performance:"
   ]
  },
  {
   "cell_type": "code",
   "execution_count": null,
   "metadata": {},
   "outputs": [],
   "source": [
    "import matplotlib.pyplot as plt\n",
    "from graph_pes.utils.analysis import parity_plot\n",
    "\n",
    "%config InlineBackend.figure_format = 'retina'\n",
    "\n",
    "parity_plot(\n",
    "    best_model,\n",
    "    test,\n",
    "    property=\"energy_per_atom\",\n",
    "    units=\"eV / atom\",\n",
    "    lw=0,\n",
    "    s=12,\n",
    "    color=\"crimson\",\n",
    ")\n",
    "plt.xlim(-158.5, -155)\n",
    "plt.ylim(-158.5, -155);"
   ]
  },
  {
   "cell_type": "code",
   "execution_count": null,
   "metadata": {},
   "outputs": [],
   "source": [
    "parity_plot(\n",
    "    best_model,\n",
    "    test,\n",
    "    property=\"forces\",\n",
    "    units=\"eV / Å\",\n",
    "    lw=0,\n",
    "    s=2,\n",
    "    alpha=0.5,\n",
    "    color=\"crimson\",\n",
    ")"
   ]
  },
  {
   "cell_type": "code",
   "execution_count": null,
   "metadata": {},
   "outputs": [],
   "source": [
    "from graph_pes.utils.analysis import dimer_curve\n",
    "\n",
    "dimer_curve(best_model, system=\"CC\", units=\"eV\", rmin=0.85, rmax=4.0);"
   ]
  }
 ],
 "metadata": {
  "kernelspec": {
   "display_name": "graph-pes",
   "language": "python",
   "name": "graph-pes"
  },
  "language_info": {
   "codemirror_mode": {
    "name": "ipython",
    "version": 3
   },
   "file_extension": ".py",
   "mimetype": "text/x-python",
   "name": "python",
   "nbconvert_exporter": "python",
   "pygments_lexer": "ipython3",
   "version": "3.10.18"
  }
 },
 "nbformat": 4,
 "nbformat_minor": 4
}
