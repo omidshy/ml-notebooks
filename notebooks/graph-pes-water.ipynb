{
 "cells": [
  {
   "cell_type": "markdown",
   "metadata": {
    "nbsphinx": "hidden"
   },
   "source": [
    "In case you are running this notebook in Colab! If you want to enable GPU acceleration, ensure you select a GPU runtime in the top-right dropdown menu 🚀"
   ]
  },
  {
   "cell_type": "markdown",
   "metadata": {},
   "source": [
    "# Training a MACE potential for liquid water\n",
    "\n",
    "> **FYI**, you can open this documentation as a [Google Colab notebook](https://colab.research.google.com/github/omidshy/ml-notebooks/blob/master/notebooks/graph-pes-water.ipynb) to follow along interactively\n",
    "\n",
    "For more information on the ``graph-pes-train`` command, and the plethora of options available for specification in your ``config.yaml`` see the [CLI reference](https://jla-gardner.github.io/graph-pes/cli/graph-pes-train/root.html).\n",
    "\n",
    "Below, we train a [MACE](https://jla-gardner.github.io/graph-pes/models/many-body/mace.html) model on a dataset containing ... structures of liquid water."
   ]
  },
  {
   "cell_type": "code",
   "execution_count": null,
   "metadata": {},
   "outputs": [],
   "source": [
    "!pip install graph-pes"
   ]
  },
  {
   "cell_type": "markdown",
   "metadata": {},
   "source": [
    "We should have access to the ``graph-pes-train`` command. We can check this by running:"
   ]
  },
  {
   "cell_type": "code",
   "execution_count": null,
   "metadata": {},
   "outputs": [],
   "source": [
    "!graph-pes-train -h"
   ]
  },
  {
   "cell_type": "markdown",
   "metadata": {},
   "source": [
    "## Reference Data \n",
    "\n",
    "We download our dataset, use [load-atoms](https://jla-gardner.github.io/load-atoms/) to load our local copy and split the dataset into training, validation and test datasets:"
   ]
  },
  {
   "cell_type": "code",
   "execution_count": null,
   "metadata": {},
   "outputs": [],
   "source": [
    "%%bash\n",
    "\n",
    "if [ ! -f water.xyz ]; then\n",
    "    wget https://tinyurl.com/water-dataset -O water.xyz\n",
    "fi"
   ]
  },
  {
   "cell_type": "code",
   "execution_count": null,
   "metadata": {},
   "outputs": [],
   "source": [
    "import ase.io\n",
    "from load_atoms import load_dataset\n",
    "\n",
    "structures = load_dataset(\"water.xyz\")\n",
    "train, valid, test = structures.random_split([0.8, 0.1, 0.1])\n",
    "\n",
    "ase.io.write(\"train-water.xyz\", train)\n",
    "ase.io.write(\"valid-water.xyz\", valid)\n",
    "ase.io.write(\"test-water.xyz\", test)"
   ]
  },
  {
   "cell_type": "markdown",
   "metadata": {},
   "source": [
    "We can visualise the kinds of structures we're training on using [load_atoms.view](https://jla-gardner.github.io/load-atoms/api/viz.html):"
   ]
  },
  {
   "cell_type": "code",
   "execution_count": null,
   "metadata": {},
   "outputs": [],
   "source": [
    "from load_atoms import view\n",
    "\n",
    "view(train[0], show_bonds=True)"
   ]
  },
  {
   "cell_type": "markdown",
   "metadata": {},
   "source": [
    "As you can see, each structure has an energy label:"
   ]
  },
  {
   "cell_type": "code",
   "execution_count": null,
   "metadata": {},
   "outputs": [],
   "source": [
    "train[0].info[\"energy\"]"
   ]
  },
  {
   "cell_type": "markdown",
   "metadata": {},
   "source": [
    "... as well as a forces label (one for each atom in the structure):"
   ]
  },
  {
   "cell_type": "code",
   "execution_count": null,
   "metadata": {},
   "outputs": [],
   "source": [
    "train[0].arrays[\"forces\"].shape"
   ]
  },
  {
   "cell_type": "markdown",
   "metadata": {},
   "source": [
    "These properties are stored in the files we have just created:"
   ]
  },
  {
   "cell_type": "code",
   "execution_count": null,
   "metadata": {},
   "outputs": [],
   "source": [
    "!head train-water.xyz"
   ]
  },
  {
   "cell_type": "markdown",
   "metadata": {},
   "source": [
    "## Configuration\n",
    "\n",
    "Great - now lets train a model. To do this, we have specified the following in our ``water.yaml`` file:\n",
    "\n",
    "* the model architecture to instantiate and train, here [MACE](https://jla-gardner.github.io/graph-pes/models/many-body/mace.html). Note that we also include a [FixedOffset](https://jla-gardner.github.io/graph-pes/models/offsets.html#graph_pes.models.FixedOffset) component to account for the fact that the energy labels have an arbitrary energy offset.\n",
    "* the data to train on, here the liquid water dataset we just loaded\n",
    "* the loss function to use, here a combination of a per-atom energy loss and a per-atom force loss\n",
    "* and various other training hyperparameters (e.g. the learning rate, batch size, etc.)\n",
    "\n"
   ]
  },
  {
   "cell_type": "markdown",
   "metadata": {},
   "source": [
    "We can download [this config file](https://raw.githubusercontent.com/omidshy/ml-notebooks/refs/heads/master/data/quickstart-cgap17.yaml) using wget:"
   ]
  },
  {
   "cell_type": "code",
   "execution_count": null,
   "metadata": {},
   "outputs": [],
   "source": [
    "%%bash\n",
    "\n",
    "if [ ! -f water.yaml ]; then\n",
    "    wget https://tinyurl.com/water-config -O water.yaml\n",
    "fi"
   ]
  },
  {
   "cell_type": "markdown",
   "metadata": {},
   "source": [
    "## Training\n",
    "\n",
    "We use the downloaded config file to start the training.\n"
   ]
  },
  {
   "cell_type": "code",
   "execution_count": null,
   "metadata": {},
   "outputs": [],
   "source": [
    "!graph-pes-train water.yaml general/run_id=train-mace-water"
   ]
  },
  {
   "cell_type": "markdown",
   "metadata": {},
   "source": [
    "## Model Analysis\n",
    "\n",
    "As part of the `graph-pes-train` run, the model was tested on the test set we specified in the config file (see the final section of the logs above).\n",
    "\n",
    "To analyse the model in more detail, we first need to load it from disk. You can see from the command we used, and the training logs above, that the best model from the training run (i.e. the set of weights that gave the lowest validation loss) has been saved as `graph-pes-results/train-mace-water/model.pt`.\n",
    "\n",
    "Let's load that best model, put it on the GPU for accelerated inference if available, and get it ready for evaluation:"
   ]
  },
  {
   "cell_type": "code",
   "execution_count": null,
   "metadata": {},
   "outputs": [],
   "source": [
    "import torch\n",
    "from graph_pes.models import load_model\n",
    "\n",
    "device = torch.device(\"cuda\" if torch.cuda.is_available() else \"cpu\")\n",
    "best_model = (\n",
    "    load_model(\"graph-pes-results/train-mace-water/model.pt\")  # load the model\n",
    "    .to(device)  # move to GPU if available\n",
    "    .eval()  # set to evaluation mode\n",
    ")"
   ]
  },
  {
   "cell_type": "markdown",
   "metadata": {},
   "source": [
    "The easiest way to use our model is to use the [GraphPESCalculator](https://jla-gardner.github.io/graph-pes/tools/ase.html#graph_pes.utils.calculator.GraphPESCalculator) to act directly on [ase.Atoms](https://wiki.fysik.dtu.dk/ase/ase/atoms.html#module-ase.atoms) objects:"
   ]
  },
  {
   "cell_type": "code",
   "execution_count": null,
   "metadata": {},
   "outputs": [],
   "source": [
    "calculator = best_model.ase_calculator()\n",
    "calculator.calculate(test[0], properties=[\"energy\", \"forces\"])\n",
    "calculator.results"
   ]
  },
  {
   "cell_type": "markdown",
   "metadata": {},
   "source": [
    "We can see from a single data point that our model has done a reasonable job of learning the PES:"
   ]
  },
  {
   "cell_type": "code",
   "execution_count": null,
   "metadata": {},
   "outputs": [],
   "source": [
    "calculator.get_potential_energy(test[0]), test[0].info[\"energy\"]"
   ]
  },
  {
   "cell_type": "markdown",
   "metadata": {},
   "source": [
    "... and predicting the atomic forces:"
   ]
  },
  {
   "cell_type": "code",
   "execution_count": null,
   "metadata": {},
   "outputs": [],
   "source": [
    "calculator.get_forces(test[0])[1], test[0].arrays[\"forces\"][1]"
   ]
  },
  {
   "cell_type": "markdown",
   "metadata": {},
   "source": [
    "``graph-pes`` provides a few utility functions for visualising model performance:"
   ]
  },
  {
   "cell_type": "code",
   "execution_count": null,
   "metadata": {},
   "outputs": [],
   "source": [
    "import matplotlib.pyplot as plt\n",
    "from graph_pes.utils.analysis import parity_plot\n",
    "\n",
    "%config InlineBackend.figure_format = 'retina'\n",
    "\n",
    "parity_plot(\n",
    "    best_model,\n",
    "    test,\n",
    "    property=\"energy_per_atom\",\n",
    "    units=\"eV / atom\",\n",
    "    lw=0,\n",
    "    s=12,\n",
    "    color=\"crimson\",\n",
    ")"
   ]
  },
  {
   "cell_type": "code",
   "execution_count": null,
   "metadata": {},
   "outputs": [],
   "source": [
    "parity_plot(\n",
    "    best_model,\n",
    "    test,\n",
    "    property=\"forces\",\n",
    "    units=\"eV / Å\",\n",
    "    lw=0,\n",
    "    s=2,\n",
    "    alpha=0.5,\n",
    "    color=\"crimson\",\n",
    ")"
   ]
  },
  {
   "cell_type": "markdown",
   "metadata": {},
   "source": [
    "## Dynamics Simulation\n",
    "\n",
    "Running molecular dynamics (MD) with our trained model is straightforward.\n",
    "\n",
    "Below, we use ASE-driven MD for simplicity - please see the [LAMMPS MD guide](https://jla-gardner.github.io/graph-pes/tools/lammps.html) for instructions on how to run MD with our model in LAMMPS."
   ]
  },
  {
   "cell_type": "code",
   "execution_count": null,
   "metadata": {},
   "outputs": [],
   "source": [
    "from ase import units\n",
    "from ase.md.langevin import Langevin\n",
    "\n",
    "# set up structure\n",
    "structure = ase.io.read(\"test-water.xyz\", index=0)\n",
    "\n",
    "# set up MD\n",
    "structure.calc = calculator\n",
    "dynamics = Langevin(\n",
    "    structure,\n",
    "    timestep=1.0 * units.fs,\n",
    "    temperature_K=300,\n",
    "    friction=0.01 / units.fs,\n",
    ")\n",
    "dynamics.attach(\n",
    "    lambda: structure.write(\"traj-water.xyz\", append=True),\n",
    "    interval=10,\n",
    ")\n",
    "\n",
    "# run MD\n",
    "dynamics.run(5000) # 5000 steps = 5 ps"
   ]
  },
  {
   "cell_type": "markdown",
   "metadata": {},
   "source": [
    "Loading the trajectory and visualizing the last frame."
   ]
  },
  {
   "cell_type": "code",
   "execution_count": null,
   "metadata": {},
   "outputs": [],
   "source": [
    "trajectory = ase.io.read(\"traj-water.xyz\", index=\":\")\n",
    "view(trajectory[500], show_bonds=True)"
   ]
  },
  {
   "cell_type": "markdown",
   "metadata": {},
   "source": [
    "## Simulation Analysis\n",
    "\n",
    "We now compute the radial distribution functions (RDF) from the collected trajectory and compare the results to the RDFs from a reference DFT MD simulation."
   ]
  },
  {
   "cell_type": "code",
   "execution_count": null,
   "metadata": {},
   "outputs": [],
   "source": [
    "from ase.geometry.analysis import Analysis\n",
    "\n",
    "# The Analysis class takes the Atoms object as input.\n",
    "atoms = Analysis(trajectory)\n",
    "\n",
    "# Calculate the RDF for Oxygen-Oxygen pairs\n",
    "rdf_OO = atoms.get_rdf(rmax=7.0, nbins=200, elements=('O', 'O'))"
   ]
  },
  {
   "cell_type": "code",
   "execution_count": null,
   "metadata": {},
   "outputs": [],
   "source": [
    "%%bash\n",
    "\n",
    "if [ ! -f rdf.csv ]; then\n",
    "    wget https://tinyurl.com/ref-rdf -O rdf.csv\n",
    "fi"
   ]
  },
  {
   "cell_type": "code",
   "execution_count": null,
   "metadata": {},
   "outputs": [],
   "source": [
    "import numpy as np\n",
    "\n",
    "ref_rdf_OO = np.genfromtxt(\"rdf.csv\", delimiter=\",\", dtype=float)"
   ]
  },
  {
   "cell_type": "code",
   "execution_count": null,
   "metadata": {},
   "outputs": [],
   "source": [
    "\n",
    "plt.figure(figsize=(8, 6))\n",
    "plt.plot(np.linspace(0, 7, num=200), np.mean(rdf_OO, axis=0), label='O-O', color='red', linewidth=2)\n",
    "plt.plot(ref_rdf_OO.T[0]/100, ref_rdf_OO.T[1], label='O-O (DFT)', color='green', linestyle='dashed', linewidth=2)\n",
    "plt.title('Radial Distribution Function (RDF)')\n",
    "plt.xlabel('Distance, $r$ (Å)')\n",
    "plt.ylabel('g($r$)')\n",
    "plt.legend()\n",
    "plt.axhline(1, color='gray', linestyle=':')\n",
    "plt.show()"
   ]
  }
 ],
 "metadata": {
  "kernelspec": {
   "display_name": "Python 3 (ipykernel)",
   "language": "python",
   "name": "python3"
  },
  "language_info": {
   "codemirror_mode": {
    "name": "ipython",
    "version": 3
   },
   "file_extension": ".py",
   "mimetype": "text/x-python",
   "name": "python",
   "nbconvert_exporter": "python",
   "pygments_lexer": "ipython3",
   "version": "3.12.11"
  }
 },
 "nbformat": 4,
 "nbformat_minor": 4
}
