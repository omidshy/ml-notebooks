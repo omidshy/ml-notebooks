{
 "cells": [
  {
   "cell_type": "markdown",
   "metadata": {
    "id": "FMj6evQUH4rQ"
   },
   "source": [
    "# Modeling the Müller-Brown Potential Using a Neural Network\n",
    "\n",
    "In this tutorial, we will learn how to use a neural network (NN) model to predict the energy of points on the Müller-Brown potential energy surface.\n"
   ]
  },
  {
   "cell_type": "code",
   "execution_count": null,
   "metadata": {
    "id": "1y8otrleFRXC"
   },
   "outputs": [],
   "source": [
    "from math import exp, pow\n",
    "import numpy as np\n",
    "import matplotlib.pyplot as plt\n",
    "import plotly.graph_objects as go"
   ]
  },
  {
   "cell_type": "markdown",
   "metadata": {
    "id": "G5gEWLszUpQV"
   },
   "source": [
    "## Defining the Müller-Brown Potential\n",
    "\n",
    "The Müller-Brown potential is a well-known model potential energy surface used in computational chemistry to study reaction dynamics and transition states. It is defined by a sum of four Gaussian-like terms, and its mathematical form is (for more details see [here](https://www.wolframcloud.com/objects/demonstrations/TrajectoriesOnTheMullerBrownPotentialEnergySurface-source.nb)): \n",
    "\n",
    "$ V(x,y) = \\sum_{k=1}^4 A_k \\mathrm{exp}\\left( a_k \\left( x - x_k^0 \\right)^2 + b_k \\left( x - x_k^0 \\right) \\left( y - y_k^0 \\right) + c_k \\left( y - y_k^0 \\right)^2 \\right) $.\n",
    "\n",
    "First, we define the Müller-Brown potential as a Python function:"
   ]
  },
  {
   "cell_type": "code",
   "execution_count": null,
   "metadata": {
    "id": "N0JzzAZ1UZdx"
   },
   "outputs": [],
   "source": [
    "def mueller_brown_potential(x, y):\n",
    "    \"\"\"\n",
    "    Compute the Müller-Brown potential energy function at position (x, y).\n",
    "\n",
    "    Parameters:\n",
    "    -----------\n",
    "    x : float\n",
    "        x-coordinate of the point.\n",
    "    y : float\n",
    "        y-coordinate of the point.\n",
    "\n",
    "    Returns:\n",
    "    --------\n",
    "    value : float\n",
    "        Potential energy at the given (x, y) position.\n",
    "    \"\"\"\n",
    "    # Amplitude parameters\n",
    "    A = [-200, -100, -170, 15]\n",
    "    \n",
    "    # Shape coefficients\n",
    "    a = [-1, -1, -6.5, 0.7]\n",
    "    b = [0, 0, 11, 0.6]\n",
    "    c = [-10, -10, -6.5, 0.7]\n",
    "    \n",
    "    # Center coordinates of the minima\n",
    "    x_0 = [1.0, 0.0, -0.5, -1.0]\n",
    "    y_0 = [0.0, 0.5, 1.5, 1.0]\n",
    "\n",
    "    v_xy = 0.0\n",
    "\n",
    "    for k in range(4):\n",
    "        dx = x - x_0[k]\n",
    "        dy = y - y_0[k]\n",
    "        # Scale the function by 0.1 to make visualization easier\n",
    "        v_xy += 0.1 * A[k] * np.exp(a[k] * dx**2 + b[k] * dx * dy + c[k] * dy**2)\n",
    "\n",
    "    return v_xy"
   ]
  },
  {
   "cell_type": "markdown",
   "metadata": {
    "id": "4GfIwnIKU9E-"
   },
   "source": [
    "## Generate Training Data\n",
    "\n",
    "Next, we need to generate data points to train the neural network. The training data will be generated using the Müller-Brown Potential and a range of x and y values."
   ]
  },
  {
   "cell_type": "code",
   "execution_count": null,
   "metadata": {
    "colab": {
     "base_uri": "https://localhost:8080/"
    },
    "id": "WIEw90Hx9XMr",
    "outputId": "73aa645c-5ed6-47ec-8ea1-b526d2539e03"
   },
   "outputs": [],
   "source": [
    "# Generate a set of x and y values\n",
    "x = np.arange(-1.8, 1.4, 0.05)\n",
    "y = np.arange(-0.8, 2.4, 0.05)\n",
    "\n",
    "# Create a rectangular grid out of two given one-dimensional xs and ys arrays\n",
    "X, Y = np.meshgrid(x, y)\n",
    "\n",
    "xy, v = [], []\n",
    "xy_truncated, v_truncated = [], []\n",
    "\n",
    "for j in y:\n",
    "  for i in x:\n",
    "    xy.append([i,j])\n",
    "    e = mueller_brown_potential(i,j)\n",
    "    v.append(e) # Storing potential energy values in the v array\n",
    "    if e < 20:  # Keeping only low-energy points for training\n",
    "      xy_truncated.append([i,j])\n",
    "      v_truncated.append(e)\n",
    "\n",
    "# Reshape e array so that we can plot our data on a 2D surface that is len(xs) by len(ys)\n",
    "V = np.reshape(v,(len(y),-1))\n",
    "\n",
    "# Print some statistics\n",
    "print(\"V_min:\", np.amin(V), \"V_max:\", np.amax(V))\n",
    "print(\"Size of dataset:\", len(v))\n",
    "print(\"Size of truncated dataset:\", len(v_truncated))"
   ]
  },
  {
   "cell_type": "markdown",
   "metadata": {
    "id": "GHmBKzxwVRGf"
   },
   "source": [
    "### Visualizing Data: 3D Surface\n",
    "\n",
    "We will now create a 3D plot of our data. To make the plot more readable, we will exclude the points that have extremely high energy."
   ]
  },
  {
   "cell_type": "code",
   "execution_count": null,
   "metadata": {
    "colab": {
     "base_uri": "https://localhost:8080/",
     "height": 517
    },
    "id": "fj9-VeCjWRPR",
    "outputId": "36501e9d-7c18-41ad-8787-345800f90ad5"
   },
   "outputs": [],
   "source": [
    "fig = go.Figure(data=[go.Surface(z=V, x=X, y=Y, colorscale='rainbow', cmin=-15, cmax=9)])\n",
    "\n",
    "# Add contour lines\n",
    "fig.update_traces(contours_z=dict(show=True, project_z=True, width=1))\n",
    "\n",
    "# Format the layout\n",
    "fig.update_layout(\n",
    "    title='Müller-Brown PES', \n",
    "    width=600, height=600,\n",
    "    scene = dict(\n",
    "        zaxis_title=\"V(x,y)\",\n",
    "        zaxis = dict(dtick=3, range=[-15, 15]),\n",
    "        camera_eye = dict(x=-1.2, y=-1.2, z=1.0)\n",
    "    )\n",
    ")\n",
    "\n",
    "fig.show()"
   ]
  },
  {
   "cell_type": "markdown",
   "metadata": {
    "id": "S_BieFeHXuD7"
   },
   "source": [
    "### Visualizing Data: 2D Contour Surface\n",
    "\n",
    "To allow for an easier visualization of the potential energy surface, we can generate a 2D contour surface."
   ]
  },
  {
   "cell_type": "code",
   "execution_count": null,
   "metadata": {
    "colab": {
     "base_uri": "https://localhost:8080/",
     "height": 377
    },
    "id": "me07-Xz19jGO",
    "outputId": "70268012-626e-478e-b545-29ac2ec3f37c"
   },
   "outputs": [],
   "source": [
    "# Create the figure\n",
    "fig = plt.figure(figsize=(6, 5))\n",
    "\n",
    "# Define contour levels\n",
    "levels = np.arange(-12, 8, 2)\n",
    "\n",
    "# Contour lines\n",
    "contour_lines = plt.contour(X, Y, V, levels=levels, colors='k', linewidths=1.0)\n",
    "plt.clabel(contour_lines, inline=True, fmt='%3.0f', fontsize=8)\n",
    "\n",
    "# Filled contours\n",
    "contour_fill = plt.contourf(X, Y, V, levels=levels, cmap='rainbow', extend='both', vmin=-15, vmax=8)\n",
    "\n",
    "# Axis labels and ticks\n",
    "plt.xlabel(\"x\", labelpad=2.5)\n",
    "plt.ylabel(\"y\", labelpad=2.5)\n",
    "plt.tick_params(axis='both', pad=2, labelsize=8)\n",
    "\n",
    "# Colorbar\n",
    "cbar = plt.colorbar(contour_fill)\n",
    "cbar.ax.tick_params(labelsize=8)\n",
    "\n",
    "# Title\n",
    "plt.title('Müller-Brown Contour Surface', fontsize=10)\n",
    "\n",
    "# Layout\n",
    "plt.tight_layout()\n",
    "plt.show()"
   ]
  },
  {
   "cell_type": "markdown",
   "metadata": {
    "id": "o5BkUIk5YK4i"
   },
   "source": [
    "## Loading PyTorch and Training Data\n",
    "\n",
    "After installing and importing pytorch, we will convert our truncated dataset to a tensor data object. Then, randomly select 80% of the data points for training. \n"
   ]
  },
  {
   "cell_type": "code",
   "execution_count": null,
   "metadata": {
    "colab": {
     "base_uri": "https://localhost:8080/"
    },
    "id": "LxoMnpPeDlYg",
    "outputId": "0141498d-991e-49b1-b19e-a9ed53b7d2e2"
   },
   "outputs": [],
   "source": [
    "import torch\n",
    "import torch.nn as nn\n",
    "from torch import Tensor\n",
    "from torch.utils.data import TensorDataset, DataLoader, Subset\n",
    "\n",
    "# convert the dataset to TensorDataset\n",
    "dataset = TensorDataset(Tensor(xy_truncated), Tensor(v_truncated))\n",
    "\n",
    "# Randomly select 80% of the data points\n",
    "train_indices = torch.randint(0, len(dataset), (int(len(dataset)*0.8),))\n",
    "train_dataset = Subset(dataset, train_indices)\n",
    "\n",
    "# Prepare a DataLoader object using the selected training set\n",
    "train_loader = DataLoader(train_dataset, batch_size=32, shuffle=True)\n",
    "print(\"Size of training set:\", len(train_loader.dataset))"
   ]
  },
  {
   "cell_type": "markdown",
   "metadata": {
    "id": "LQUmBoB2cT4s"
   },
   "source": [
    "### Defining the Neural Network Class\n",
    "\n",
    "Here we define our neural network as a Python class. A function ($\\it{train\\_loop}$) is used to loop through our training data."
   ]
  },
  {
   "cell_type": "code",
   "execution_count": null,
   "metadata": {
    "id": "z3Si6tnBFj93"
   },
   "outputs": [],
   "source": [
    "class NeuralNetwork(nn.Module):\n",
    "    def __init__(self, n=20):  # n is the number of neurons of the hidden layer(s)\n",
    "        super().__init__()\n",
    "        self.model = nn.Sequential(\n",
    "            nn.Linear(2,n), # Linear function taking 2 inputs and outputs data for n neurons\n",
    "            nn.Tanh(),      # Non-linear activation function\n",
    "            nn.Linear(n, 1) # Linear function taking data from n neurons and producing one output\n",
    "        )\n",
    "\n",
    "    def forward(self, x):\n",
    "        return self.model(x)\n",
    "\n",
    "def train_loop(dataloader, model, loss_fn, optimizer, epoch):\n",
    "\n",
    "    size = len(dataloader.dataset)\n",
    "    for batch, (X, y) in enumerate(dataloader):\n",
    "        # Compute model's prediction and loss\n",
    "        pred = model(X)\n",
    "        loss = loss_fn(pred.squeeze(), y)\n",
    "\n",
    "        # Backpropagation - using the gradients of the loss function to update the weights and biases\n",
    "        optimizer.zero_grad() # Zero out the gradients from the previous iteration\n",
    "        loss.backward()       # Compute the gradients of the loss function\n",
    "        optimizer.step()      # Update the weights and biases using the gradients\n",
    "\n",
    "        if batch % 32 == 0 and epoch % 100 == 0:\n",
    "            loss, current = loss.item(), batch * len(X)\n",
    "            print(f\"epoch: {epoch:>4d} loss: {loss:>7.3f}  [{current:>5d}/{size:>5d}]\")"
   ]
  },
  {
   "cell_type": "markdown",
   "metadata": {
    "id": "TXpLmuWBcbpg"
   },
   "source": [
    "## Training the Model\n",
    "\n",
    "Now we can train the neural network. We will finish our training when the desired number of epochs has been reached. We will also define other hyper-parameters used for the training."
   ]
  },
  {
   "cell_type": "code",
   "execution_count": null,
   "metadata": {
    "colab": {
     "base_uri": "https://localhost:8080/"
    },
    "id": "PGry3oNqGjof",
    "outputId": "45bb5715-7412-4746-b956-2159d34429c5"
   },
   "outputs": [],
   "source": [
    "n_hidden = 20\n",
    "learning_rate = 1e-2\n",
    "epochs = 800\n",
    "\n",
    "model = NeuralNetwork(n_hidden)\n",
    "loss_fn = nn.functional.mse_loss\n",
    "optimizer = torch.optim.SGD(model.parameters(), lr=learning_rate)\n",
    "\n",
    "for epoch in range(epochs):\n",
    "    train_loop(train_loader, model, loss_fn, optimizer, epoch)\n",
    "\n",
    "print(\"Done with Training!\")"
   ]
  },
  {
   "cell_type": "markdown",
   "metadata": {
    "id": "aNfktUgEc17B"
   },
   "source": [
    "## Plotting Reference, Predicted, and Difference Surfaces\n",
    "\n",
    "Finally, we will plot the Müller-Brown potential energy surface using the analytical function (reference), using the predicted values from the neural network (predicted), and we will show the difference between the predicted and reference surfaces."
   ]
  },
  {
   "cell_type": "code",
   "execution_count": null,
   "metadata": {
    "colab": {
     "base_uri": "https://localhost:8080/",
     "height": 1000
    },
    "id": "fudclASTHAaO",
    "outputId": "bfbc79e4-b81d-468a-f436-9d063790c17a"
   },
   "outputs": [],
   "source": [
    "def show_surface(model):\n",
    "\n",
    "  v_pred = model(Tensor(xy))\n",
    "  V_pred = np.reshape(v_pred.detach().numpy(),(len(y),-1))\n",
    "  Vdiff = np.subtract(V_pred, V)\n",
    "\n",
    "  fig = plt.figure(figsize=(6, 15))\n",
    "  \n",
    "  levels = np.arange(-12, 8, 2)\n",
    "\n",
    "  plt.subplot(3, 1, 1)\n",
    "  ct = plt.contour(X, Y, V, levels, colors='k', linewidths=1.0)\n",
    "  plt.clabel(ct, inline=True, fmt='%3.0f', fontsize=8)\n",
    "  ct = plt.contourf(X, Y, V, levels, cmap=plt.cm.rainbow, extend='both', vmin=-12, vmax=8)\n",
    "  plt.title(\"(a) Reference\", fontsize=12)\n",
    "  plt.xlabel(\"x\", labelpad=2.5)\n",
    "  plt.ylabel(\"y\", labelpad=2.5)\n",
    "  plt.tick_params(axis='both', pad=2, labelsize=8)\n",
    "  cbar= plt.colorbar()\n",
    "  cbar.ax.tick_params(labelsize=8)\n",
    "\n",
    "  plt.subplot(3, 1, 2)\n",
    "  ct = plt.contour(X, Y, V_pred, levels, colors='k', linewidths=1.0)\n",
    "  plt.clabel(ct, inline=True, fmt='%3.0f', fontsize=8)\n",
    "  ct = plt.contourf(X, Y, V_pred, levels, cmap=plt.cm.rainbow, extend='both', vmin=-12, vmax=8)\n",
    "  plt.title(\"(b) Predicted\", fontsize=12)\n",
    "  plt.xlabel(\"x\", labelpad=2.5)\n",
    "  plt.ylabel(\"y\", labelpad=2.5)\n",
    "  plt.tick_params(axis='both', pad=2, labelsize=8)\n",
    "  cbar= plt.colorbar()\n",
    "  cbar.ax.tick_params(labelsize=8)\n",
    "\n",
    "  levels = np.arange(-4, 4, 2)\n",
    "  \n",
    "  plt.subplot(3, 1, 3)\n",
    "  ct = plt.contour(X, Y, Vdiff, levels, colors='k', linewidths=1.0)\n",
    "  plt.clabel(ct, inline=True, fmt='%3.0f', fontsize=8)\n",
    "  ct = plt.contourf(X, Y, Vdiff, levels, cmap=plt.cm.rainbow, extend='both', vmin=-4, vmax=4)\n",
    "  plt.title(\"(c) Difference\", fontsize=12)\n",
    "  plt.xlabel(\"x\", labelpad=2.5)\n",
    "  plt.ylabel(\"y\", labelpad=2.5)\n",
    "  plt.tick_params(axis='both', pad=2, labelsize=8)\n",
    "  cbar= plt.colorbar()\n",
    "  cbar.ax.tick_params(labelsize=8)\n",
    "\n",
    "  plt.tight_layout()\n",
    "\n",
    "  plt.show()\n",
    "\n",
    "show_surface(model)"
   ]
  }
 ],
 "metadata": {
  "colab": {
   "provenance": []
  },
  "kernelspec": {
   "display_name": "pytorch",
   "language": "python",
   "name": "pytorch"
  },
  "language_info": {
   "codemirror_mode": {
    "name": "ipython",
    "version": 3
   },
   "file_extension": ".py",
   "mimetype": "text/x-python",
   "name": "python",
   "nbconvert_exporter": "python",
   "pygments_lexer": "ipython3",
   "version": "3.9.18"
  },
  "vscode": {
   "interpreter": {
    "hash": "cd78fef2128015050713e82ca51c6520b11aee7c9ee8df750520bbbc7384cbaa"
   }
  }
 },
 "nbformat": 4,
 "nbformat_minor": 4
}
